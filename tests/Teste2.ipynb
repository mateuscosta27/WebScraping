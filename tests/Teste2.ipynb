{
 "cells": [
  {
   "cell_type": "code",
   "execution_count": 1,
   "metadata": {},
   "outputs": [],
   "source": [
    "import pandas as pd\n"
   ]
  },
  {
   "cell_type": "code",
   "execution_count": 17,
   "metadata": {},
   "outputs": [],
   "source": [
    "directory_file = 'C:\\\\tmp\\\\Arquivos'\n",
    "        \n",
    "df = pd.read_csv(directory_file+'\\\\scraping_betano.csv', encoding = 'utf-8', sep=',')\n"
   ]
  },
  {
   "cell_type": "code",
   "execution_count": 18,
   "metadata": {},
   "outputs": [
    {
     "data": {
      "text/html": [
       "<div>\n",
       "<style scoped>\n",
       "    .dataframe tbody tr th:only-of-type {\n",
       "        vertical-align: middle;\n",
       "    }\n",
       "\n",
       "    .dataframe tbody tr th {\n",
       "        vertical-align: top;\n",
       "    }\n",
       "\n",
       "    .dataframe thead th {\n",
       "        text-align: right;\n",
       "    }\n",
       "</style>\n",
       "<table border=\"1\" class=\"dataframe\">\n",
       "  <thead>\n",
       "    <tr style=\"text-align: right;\">\n",
       "      <th></th>\n",
       "      <th>Jogos</th>\n",
       "    </tr>\n",
       "  </thead>\n",
       "  <tbody>\n",
       "    <tr>\n",
       "      <th>0</th>\n",
       "      <td>19:00 Fortaleza Atlético Mineiro+5812.933.132.58</td>\n",
       "    </tr>\n",
       "    <tr>\n",
       "      <th>1</th>\n",
       "      <td>20:45 Athletico Paranaense Palmeiras SP+5665.563.791.68</td>\n",
       "    </tr>\n",
       "    <tr>\n",
       "      <th>2</th>\n",
       "      <td>20:45 Flamengo Santos FC+5371.684.045.05</td>\n",
       "    </tr>\n",
       "    <tr>\n",
       "      <th>3</th>\n",
       "      <td>18:00 Brusque CRB+3131.973.134.80</td>\n",
       "    </tr>\n",
       "    <tr>\n",
       "      <th>4</th>\n",
       "      <td>20:30 CSA Vila Nova GO+2921.773.285.81</td>\n",
       "    </tr>\n",
       "    <tr>\n",
       "      <th>...</th>\n",
       "      <td>...</td>\n",
       "    </tr>\n",
       "    <tr>\n",
       "      <th>406</th>\n",
       "      <td>13:00 Alanyaspor Gazisehir Gaziantep+2792.073.543.23</td>\n",
       "    </tr>\n",
       "    <tr>\n",
       "      <th>407</th>\n",
       "      <td>15:15 Boston River Montevideo Wanderers+2821.873.333.84</td>\n",
       "    </tr>\n",
       "    <tr>\n",
       "      <th>408</th>\n",
       "      <td>15:15 Albion Montevideo Deportivo Maldonado+2793.233.282.07</td>\n",
       "    </tr>\n",
       "    <tr>\n",
       "      <th>409</th>\n",
       "      <td>09:00 Morocco U20 Libya U20+721.633.544.80</td>\n",
       "    </tr>\n",
       "    <tr>\n",
       "      <th>410</th>\n",
       "      <td>09:00 Algeria U20 Tunisia U20+682.632.932.63</td>\n",
       "    </tr>\n",
       "  </tbody>\n",
       "</table>\n",
       "<p>411 rows × 1 columns</p>\n",
       "</div>"
      ],
      "text/plain": [
       "                                                           Jogos\n",
       "0               19:00 Fortaleza Atlético Mineiro+5812.933.132.58\n",
       "1        20:45 Athletico Paranaense Palmeiras SP+5665.563.791.68\n",
       "2                       20:45 Flamengo Santos FC+5371.684.045.05\n",
       "3                              18:00 Brusque CRB+3131.973.134.80\n",
       "4                         20:30 CSA Vila Nova GO+2921.773.285.81\n",
       "..                                                           ...\n",
       "406         13:00 Alanyaspor Gazisehir Gaziantep+2792.073.543.23\n",
       "407      15:15 Boston River Montevideo Wanderers+2821.873.333.84\n",
       "408  15:15 Albion Montevideo Deportivo Maldonado+2793.233.282.07\n",
       "409                   09:00 Morocco U20 Libya U20+721.633.544.80\n",
       "410                 09:00 Algeria U20 Tunisia U20+682.632.932.63\n",
       "\n",
       "[411 rows x 1 columns]"
      ]
     },
     "execution_count": 18,
     "metadata": {},
     "output_type": "execute_result"
    }
   ],
   "source": [
    "pd.set_option('max_colwidth', None)\n",
    "df"
   ]
  },
  {
   "cell_type": "code",
   "execution_count": 29,
   "metadata": {},
   "outputs": [],
   "source": [
    "df = df['Jogos'].str.split('+', expand=True)"
   ]
  },
  {
   "cell_type": "code",
   "execution_count": 30,
   "metadata": {},
   "outputs": [
    {
     "data": {
      "text/html": [
       "<div>\n",
       "<style scoped>\n",
       "    .dataframe tbody tr th:only-of-type {\n",
       "        vertical-align: middle;\n",
       "    }\n",
       "\n",
       "    .dataframe tbody tr th {\n",
       "        vertical-align: top;\n",
       "    }\n",
       "\n",
       "    .dataframe thead th {\n",
       "        text-align: right;\n",
       "    }\n",
       "</style>\n",
       "<table border=\"1\" class=\"dataframe\">\n",
       "  <thead>\n",
       "    <tr style=\"text-align: right;\">\n",
       "      <th></th>\n",
       "      <th>0</th>\n",
       "      <th>1</th>\n",
       "    </tr>\n",
       "  </thead>\n",
       "  <tbody>\n",
       "    <tr>\n",
       "      <th>0</th>\n",
       "      <td>19:00 Fortaleza Atlético Mineiro</td>\n",
       "      <td>5812.933.132.58</td>\n",
       "    </tr>\n",
       "    <tr>\n",
       "      <th>1</th>\n",
       "      <td>20:45 Athletico Paranaense Palmeiras SP</td>\n",
       "      <td>5665.563.791.68</td>\n",
       "    </tr>\n",
       "    <tr>\n",
       "      <th>2</th>\n",
       "      <td>20:45 Flamengo Santos FC</td>\n",
       "      <td>5371.684.045.05</td>\n",
       "    </tr>\n",
       "    <tr>\n",
       "      <th>3</th>\n",
       "      <td>18:00 Brusque CRB</td>\n",
       "      <td>3131.973.134.80</td>\n",
       "    </tr>\n",
       "    <tr>\n",
       "      <th>4</th>\n",
       "      <td>20:30 CSA Vila Nova GO</td>\n",
       "      <td>2921.773.285.81</td>\n",
       "    </tr>\n",
       "    <tr>\n",
       "      <th>...</th>\n",
       "      <td>...</td>\n",
       "      <td>...</td>\n",
       "    </tr>\n",
       "    <tr>\n",
       "      <th>406</th>\n",
       "      <td>13:00 Alanyaspor Gazisehir Gaziantep</td>\n",
       "      <td>2792.073.543.23</td>\n",
       "    </tr>\n",
       "    <tr>\n",
       "      <th>407</th>\n",
       "      <td>15:15 Boston River Montevideo Wanderers</td>\n",
       "      <td>2821.873.333.84</td>\n",
       "    </tr>\n",
       "    <tr>\n",
       "      <th>408</th>\n",
       "      <td>15:15 Albion Montevideo Deportivo Maldonado</td>\n",
       "      <td>2793.233.282.07</td>\n",
       "    </tr>\n",
       "    <tr>\n",
       "      <th>409</th>\n",
       "      <td>09:00 Morocco U20 Libya U20</td>\n",
       "      <td>721.633.544.80</td>\n",
       "    </tr>\n",
       "    <tr>\n",
       "      <th>410</th>\n",
       "      <td>09:00 Algeria U20 Tunisia U20</td>\n",
       "      <td>682.632.932.63</td>\n",
       "    </tr>\n",
       "  </tbody>\n",
       "</table>\n",
       "<p>411 rows × 2 columns</p>\n",
       "</div>"
      ],
      "text/plain": [
       "                                               0                1\n",
       "0               19:00 Fortaleza Atlético Mineiro  5812.933.132.58\n",
       "1        20:45 Athletico Paranaense Palmeiras SP  5665.563.791.68\n",
       "2                       20:45 Flamengo Santos FC  5371.684.045.05\n",
       "3                              18:00 Brusque CRB  3131.973.134.80\n",
       "4                         20:30 CSA Vila Nova GO  2921.773.285.81\n",
       "..                                           ...              ...\n",
       "406         13:00 Alanyaspor Gazisehir Gaziantep  2792.073.543.23\n",
       "407      15:15 Boston River Montevideo Wanderers  2821.873.333.84\n",
       "408  15:15 Albion Montevideo Deportivo Maldonado  2793.233.282.07\n",
       "409                  09:00 Morocco U20 Libya U20   721.633.544.80\n",
       "410                09:00 Algeria U20 Tunisia U20   682.632.932.63\n",
       "\n",
       "[411 rows x 2 columns]"
      ]
     },
     "execution_count": 30,
     "metadata": {},
     "output_type": "execute_result"
    }
   ],
   "source": [
    "df"
   ]
  }
 ],
 "metadata": {
  "kernelspec": {
   "display_name": "Python 3.10.6 ('venv': venv)",
   "language": "python",
   "name": "python3"
  },
  "language_info": {
   "codemirror_mode": {
    "name": "ipython",
    "version": 3
   },
   "file_extension": ".py",
   "mimetype": "text/x-python",
   "name": "python",
   "nbconvert_exporter": "python",
   "pygments_lexer": "ipython3",
   "version": "3.10.6"
  },
  "orig_nbformat": 4,
  "vscode": {
   "interpreter": {
    "hash": "66eec1d347e40b527b8c67adf65b85aad266210eb882e4e515e1800fe0f1e408"
   }
  }
 },
 "nbformat": 4,
 "nbformat_minor": 2
}
