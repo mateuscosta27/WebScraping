{
 "cells": [
  {
   "cell_type": "code",
   "execution_count": 59,
   "metadata": {},
   "outputs": [],
   "source": [
    "import requests\n",
    "import pandas as pd\n",
    "import mysql.connector\n",
    "from mysql.connector import Error\n"
   ]
  },
  {
   "cell_type": "code",
   "execution_count": 77,
   "metadata": {},
   "outputs": [],
   "source": [
    "cookies = {\n",
    "    'sticky': 'stx30.033',\n",
    "    'sticky': 'stx11.100',\n",
    "    'sb_landing': 'true',\n",
    "    'sb_cookieConsent': 'true',\n",
    "    '_gid': 'GA1.2.1631329719.1671720792',\n",
    "    'lc-session': '1',\n",
    "    '_lr_uf_-7hhr6m': '477528a9-feb3-426a-80a0-35cc679c6f33',\n",
    "    'siteid': 'undefined',\n",
    "    '__cf_bm': 'HdYSgcRWrDS4vlI5DkHEXEIEOmZfBBwFLMywTVDoFLw-1671889099-0-AUPgLMkaQsVDWutfJi6p4SzhYUNAfqlTQBK5d1nebRH0FPLCCmpxAEtEFh5oXbVE/N+5d8zX7Rwk9nu2doRi2uOd7miijGF3ZE2q2YA5meOnTWbw46mCvrFPbD4utCQphz0HjvYzFh8SyhPepXCIaOTQFRXjbcTfPRIS2NH8J/TWm0U7GwbFiCDEXzFp6JcbeA==',\n",
    "    '_lr_hb_-7hhr6m%2Fbetanobr': '{%22heartbeat%22:1671889312510}',\n",
    "    '_ga': 'GA1.2.1565399312.1666719160',\n",
    "    '_lr_tabs_-7hhr6m%2Fbetanobr': '{%22sessionID%22:0%2C%22recordingID%22:%225-2541c924-0637-410b-b05b-6fec30fec603%22%2C%22recordingConditionThreshold%22:%2222.465372880147317%22%2C%22lastActivity%22:1671889403632}',\n",
    "    '_gat_UA-164922849-1': '1',\n",
    "    '_ga_CHR7RP8E7T': 'GS1.1.1671888500.25.1.1671889405.59.0.0',\n",
    "}\n",
    "\n",
    "headers = {\n",
    "    'authority': 'br.betano.com',\n",
    "    'accept': 'application/json, text/plain, */*',\n",
    "    'accept-language': 'pt-BR,pt;q=0.9,en-US;q=0.8,en;q=0.7',\n",
    "    # 'cookie': 'sticky=stx30.033; sticky=stx11.100; sb_landing=true; sb_cookieConsent=true; _gid=GA1.2.1631329719.1671720792; lc-session=1; _lr_uf_-7hhr6m=477528a9-feb3-426a-80a0-35cc679c6f33; siteid=undefined; __cf_bm=HdYSgcRWrDS4vlI5DkHEXEIEOmZfBBwFLMywTVDoFLw-1671889099-0-AUPgLMkaQsVDWutfJi6p4SzhYUNAfqlTQBK5d1nebRH0FPLCCmpxAEtEFh5oXbVE/N+5d8zX7Rwk9nu2doRi2uOd7miijGF3ZE2q2YA5meOnTWbw46mCvrFPbD4utCQphz0HjvYzFh8SyhPepXCIaOTQFRXjbcTfPRIS2NH8J/TWm0U7GwbFiCDEXzFp6JcbeA==; _lr_hb_-7hhr6m%2Fbetanobr={%22heartbeat%22:1671889312510}; _ga=GA1.2.1565399312.1666719160; _lr_tabs_-7hhr6m%2Fbetanobr={%22sessionID%22:0%2C%22recordingID%22:%225-2541c924-0637-410b-b05b-6fec30fec603%22%2C%22recordingConditionThreshold%22:%2222.465372880147317%22%2C%22lastActivity%22:1671889403632}; _gat_UA-164922849-1=1; _ga_CHR7RP8E7T=GS1.1.1671888500.25.1.1671889405.59.0.0',\n",
    "    'referer': 'https://br.betano.com/sport/futebol/',\n",
    "    'sec-ch-ua': '\"Not?A_Brand\";v=\"8\", \"Chromium\";v=\"108\", \"Google Chrome\";v=\"108\"',\n",
    "    'sec-ch-ua-mobile': '?0',\n",
    "    'sec-ch-ua-platform': '\"Windows\"',\n",
    "    'sec-fetch-dest': 'empty',\n",
    "    'sec-fetch-mode': 'cors',\n",
    "    'sec-fetch-site': 'same-origin',\n",
    "    'user-agent': 'Mozilla/5.0 (Windows NT 10.0; Win64; x64) AppleWebKit/537.36 (KHTML, like Gecko) Chrome/108.0.0.0 Safari/537.36',\n",
    "}\n",
    "\n",
    "response = requests.get(\n",
    "    'https://br.betano.com/api/sport/futebol/jogos-de-hoje/?req=la,s,stnf,c,mb',\n",
    "    cookies=cookies,\n",
    "    headers=headers,\n",
    ")"
   ]
  },
  {
   "cell_type": "code",
   "execution_count": 78,
   "metadata": {},
   "outputs": [],
   "source": [
    "betano = response.json()\n",
    "blocks = betano['data']['blocks']"
   ]
  },
  {
   "cell_type": "code",
   "execution_count": 79,
   "metadata": {},
   "outputs": [],
   "source": [
    "connection = mysql.connector.connect( host = 'localhost', user='root', password = 'B@tata2020',  database = 'dbapostas' )"
   ]
  },
  {
   "cell_type": "code",
   "execution_count": null,
   "metadata": {},
   "outputs": [],
   "source": [
    "for block in range(len(blocks)):\n",
    "    select_block = blocks[block]\n",
    "    events = select_block['events']\n",
    "    for event in range(len(events)):\n",
    "        select_event = events[event]\n",
    "        markets = select_event['markets'][0]['selections']\n",
    "\n",
    "        regionName = select_event['regionName']\n",
    "        regionId =select_event['regionId']\n",
    "        leagueDescription = select_event['leagueDescription'] \n",
    "        mandate = markets[0]['fullName']\n",
    "        visitante = markets[2]['fullName']\n",
    "        odds1 = markets[0]['price']\n",
    "        oddsx = markets[1]['price']\n",
    "        odds2 = markets[2]['price']\n",
    "        cursor =  connection.cursor()\n",
    "        sql = (f\"\"\"\n",
    "                   insert into tb_betano(regionName, regionId, \n",
    "                   leagueDescription, mandante, visitante, odds1, oddsx, odds2) values(\n",
    "                    \"{regionName}\", {regionId},\"{leagueDescription}\",\n",
    "                    \"{mandate}\",\"{visitante}\",{odds1},{oddsx},{odds2}\n",
    "                   )\n",
    "\n",
    "                    \"\"\")\n",
    "        cursor.execute(sql)\n",
    "        connection.commit()\n",
    "        "
   ]
  }
 ],
 "metadata": {
  "kernelspec": {
   "display_name": "venv",
   "language": "python",
   "name": "python3"
  },
  "language_info": {
   "codemirror_mode": {
    "name": "ipython",
    "version": 3
   },
   "file_extension": ".py",
   "mimetype": "text/x-python",
   "name": "python",
   "nbconvert_exporter": "python",
   "pygments_lexer": "ipython3",
   "version": "3.10.6 (tags/v3.10.6:9c7b4bd, Aug  1 2022, 21:53:49) [MSC v.1932 64 bit (AMD64)]"
  },
  "orig_nbformat": 4,
  "vscode": {
   "interpreter": {
    "hash": "15f956b4181ec974961e5f5f62234b0c806e901482ddfd02d1f841fe63205ae3"
   }
  }
 },
 "nbformat": 4,
 "nbformat_minor": 2
}
