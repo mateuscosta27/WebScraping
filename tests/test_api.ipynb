{
 "cells": [
  {
   "cell_type": "code",
   "execution_count": 1,
   "metadata": {},
   "outputs": [],
   "source": [
    "import requests\n",
    "from pandas import json_normalize\n",
    "import pandas as pd"
   ]
  },
  {
   "cell_type": "code",
   "execution_count": 16,
   "metadata": {},
   "outputs": [],
   "source": [
    "\n",
    "headers = {\n",
    "    'authority': 'vip.ngx.bet',\n",
    "    'accept': 'application/json, text/plain, */*',\n",
    "    'accept-language': 'pt-BR,pt;q=0.9,en-US;q=0.8,en;q=0.7',\n",
    "    'if-none-match': 'W/\"1d033-6Y9vpm1geQPAaRW8KANZySpPu10\"',\n",
    "    'origin': 'https://www.esporte365.com',\n",
    "    'referer': 'https://www.esporte365.com/',\n",
    "    'sec-ch-ua': '\"Chromium\";v=\"106\", \"Google Chrome\";v=\"106\", \"Not;A=Brand\";v=\"99\"',\n",
    "    'sec-ch-ua-mobile': '?0',\n",
    "    'sec-ch-ua-platform': '\"Windows\"',\n",
    "    'sec-fetch-dest': 'empty',\n",
    "    'sec-fetch-mode': 'cors',\n",
    "    'sec-fetch-site': 'cross-site',\n",
    "    'user-agent': 'Mozilla/5.0 (Windows NT 10.0; Win64; x64) AppleWebKit/537.36 (KHTML, like Gecko) Chrome/106.0.0.0 Safari/537.36',\n",
    "}\n",
    "\n",
    "params = {\n",
    "    'type': 'SOCCER',\n",
    "    'external_championship_id': '20913',\n",
    "}\n",
    "\n",
    "response = requests.get('https://vip.ngx.bet/event', params=params, headers=headers)"
   ]
  },
  {
   "cell_type": "code",
   "execution_count": 17,
   "metadata": {},
   "outputs": [],
   "source": [
    "esporte365 = json_normalize(response.json())"
   ]
  },
  {
   "cell_type": "code",
   "execution_count": null,
   "metadata": {},
   "outputs": [],
   "source": [
    "esporte365.columns"
   ]
  },
  {
   "cell_type": "code",
   "execution_count": null,
   "metadata": {},
   "outputs": [],
   "source": [
    "esporte365[['date',\n",
    "            'home_team', \n",
    "            'away_team',\n",
    "            'odds.full_time.home.value',\n",
    "            'odds.full_time.draw.value',\n",
    "            'odds.full_time.away.value',\n",
    "            'odds.full_time.home_or_draw.value',\n",
    "            'odds.full_time.draw_or_away.value']]"
   ]
  },
  {
   "cell_type": "code",
   "execution_count": 13,
   "metadata": {},
   "outputs": [],
   "source": [
    "\n",
    "import cfscrape\n",
    "import requests\n",
    "\n",
    "cookies = {\n",
    "    'PHPSESSID': 'dkr9i1ocacl1povpdce5or5sd0',\n",
    "    '_ga_WEBN9SL7PJ': 'GS1.1.1667508095.1.0.1667508095.0.0.0',\n",
    "    '_ga': 'GA1.1.44719671.1667508096',\n",
    "    '__cf_bm': 'gm45usby4K_JxnTqg3xnNSNgJlY8j_ZaQe7F6ubDomw-1667508096-0-Aao76MemaiuSVFL3fwWFh6/CFa/2iKdu6H00c3Ds1i109xHjGXvm1YPmyqYNVesY30vigkQUFuoQiY+UkmkjFHygmDAk7Y5IJL7/iM6Ep/slfgPUD3ZWfmWNKoG7jhIoc2AXO6KY1ivVp0/vfrUraalcdN6OtqBDMR2lmRKOehfJ',\n",
    "    '_sp_srt_ses.7460': '*',\n",
    "    '_sp_srt_id.7460': '8d19fc80-0440-40f4-857b-8e4a997d5a5d.1667508097.1.1667508097.1667508097.45f8bcaf-0fd8-4985-ae02-ebe3c8aee136',\n",
    "}\n",
    "\n",
    "headers = {\n",
    "    'authority': 'pixbet.com',\n",
    "    'accept': 'text/html,application/xhtml+xml,application/xml;q=0.9,image/avif,image/webp,image/apng,*/*;q=0.8,application/signed-exchange;v=b3;q=0.9',\n",
    "    'accept-language': 'pt-BR,pt;q=0.9',\n",
    "    'cache-control': 'max-age=0',\n",
    "    # Requests sorts cookies= alphabetically\n",
    "    # 'cookie': 'PHPSESSID=dkr9i1ocacl1povpdce5or5sd0; _ga_WEBN9SL7PJ=GS1.1.1667508095.1.0.1667508095.0.0.0; _ga=GA1.1.44719671.1667508096; __cf_bm=gm45usby4K_JxnTqg3xnNSNgJlY8j_ZaQe7F6ubDomw-1667508096-0-Aao76MemaiuSVFL3fwWFh6/CFa/2iKdu6H00c3Ds1i109xHjGXvm1YPmyqYNVesY30vigkQUFuoQiY+UkmkjFHygmDAk7Y5IJL7/iM6Ep/slfgPUD3ZWfmWNKoG7jhIoc2AXO6KY1ivVp0/vfrUraalcdN6OtqBDMR2lmRKOehfJ; _sp_srt_ses.7460=*; _sp_srt_id.7460=8d19fc80-0440-40f4-857b-8e4a997d5a5d.1667508097.1.1667508097.1667508097.45f8bcaf-0fd8-4985-ae02-ebe3c8aee136',\n",
    "    'sec-ch-ua': '\"Chromium\";v=\"106\", \"Google Chrome\";v=\"106\", \"Not;A=Brand\";v=\"99\"',\n",
    "    'sec-ch-ua-mobile': '?0',\n",
    "    'sec-ch-ua-platform': '\"Windows\"',\n",
    "    'sec-fetch-dest': 'document',\n",
    "    'sec-fetch-mode': 'navigate',\n",
    "    'sec-fetch-site': 'same-origin',\n",
    "    'sec-fetch-user': '?1',\n",
    "    'upgrade-insecure-requests': '1',\n",
    "    'user-agent': 'Mozilla/5.0 (Windows NT 10.0; Win64; x64) AppleWebKit/537.36 (KHTML, like Gecko) Chrome/106.0.0.0 Safari/537.36',\n",
    "}\n",
    "scraper = cfscrape.create_scraper()\n",
    "\n",
    "\n",
    "resp = scraper.get('https://pixbet.com/prejogo/', cookies=cookies, headers=headers)\n",
    "\n"
   ]
  },
  {
   "cell_type": "code",
   "execution_count": 14,
   "metadata": {},
   "outputs": [
    {
     "data": {
      "text/plain": [
       "<Response [403]>"
      ]
     },
     "execution_count": 14,
     "metadata": {},
     "output_type": "execute_result"
    }
   ],
   "source": [
    "resp"
   ]
  }
 ],
 "metadata": {
  "kernelspec": {
   "display_name": "Python 3.10.6 ('venv': venv)",
   "language": "python",
   "name": "python3"
  },
  "language_info": {
   "codemirror_mode": {
    "name": "ipython",
    "version": 3
   },
   "file_extension": ".py",
   "mimetype": "text/x-python",
   "name": "python",
   "nbconvert_exporter": "python",
   "pygments_lexer": "ipython3",
   "version": "3.10.6"
  },
  "orig_nbformat": 4,
  "vscode": {
   "interpreter": {
    "hash": "15f956b4181ec974961e5f5f62234b0c806e901482ddfd02d1f841fe63205ae3"
   }
  }
 },
 "nbformat": 4,
 "nbformat_minor": 2
}
