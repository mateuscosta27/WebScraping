{
 "cells": [
  {
   "cell_type": "code",
   "execution_count": 1,
   "metadata": {},
   "outputs": [],
   "source": [
    "import requests\n",
    "from pandas import json_normalize\n",
    "import pandas as pd"
   ]
  },
  {
   "cell_type": "code",
   "execution_count": 16,
   "metadata": {},
   "outputs": [],
   "source": [
    "\n",
    "headers = {\n",
    "    'authority': 'vip.ngx.bet',\n",
    "    'accept': 'application/json, text/plain, */*',\n",
    "    'accept-language': 'pt-BR,pt;q=0.9,en-US;q=0.8,en;q=0.7',\n",
    "    'if-none-match': 'W/\"1d033-6Y9vpm1geQPAaRW8KANZySpPu10\"',\n",
    "    'origin': 'https://www.esporte365.com',\n",
    "    'referer': 'https://www.esporte365.com/',\n",
    "    'sec-ch-ua': '\"Chromium\";v=\"106\", \"Google Chrome\";v=\"106\", \"Not;A=Brand\";v=\"99\"',\n",
    "    'sec-ch-ua-mobile': '?0',\n",
    "    'sec-ch-ua-platform': '\"Windows\"',\n",
    "    'sec-fetch-dest': 'empty',\n",
    "    'sec-fetch-mode': 'cors',\n",
    "    'sec-fetch-site': 'cross-site',\n",
    "    'user-agent': 'Mozilla/5.0 (Windows NT 10.0; Win64; x64) AppleWebKit/537.36 (KHTML, like Gecko) Chrome/106.0.0.0 Safari/537.36',\n",
    "}\n",
    "\n",
    "params = {\n",
    "    'type': 'SOCCER',\n",
    "    'external_championship_id': '20913',\n",
    "}\n",
    "\n",
    "response = requests.get('https://vip.ngx.bet/event', params=params, headers=headers)"
   ]
  },
  {
   "cell_type": "code",
   "execution_count": 17,
   "metadata": {},
   "outputs": [],
   "source": [
    "esporte365 = json_normalize(response.json())"
   ]
  },
  {
   "cell_type": "code",
   "execution_count": null,
   "metadata": {},
   "outputs": [],
   "source": [
    "esporte365.columns"
   ]
  },
  {
   "cell_type": "code",
   "execution_count": null,
   "metadata": {},
   "outputs": [],
   "source": [
    "esporte365[['date',\n",
    "            'home_team', \n",
    "            'away_team',\n",
    "            'odds.full_time.home.value',\n",
    "            'odds.full_time.draw.value',\n",
    "            'odds.full_time.away.value',\n",
    "            'odds.full_time.home_or_draw.value',\n",
    "            'odds.full_time.draw_or_away.value']]"
   ]
  },
  {
   "cell_type": "code",
   "execution_count": 506,
   "metadata": {},
   "outputs": [],
   "source": [
    "import requests\n",
    "\n",
    "\n",
    "headers = {\n",
    "    'authority': 'br.betano.com',\n",
    "    'accept': 'application/json, text/plain, */*',\n",
    "    'accept-language': 'pt-BR,pt;q=0.9,en-US;q=0.8,en;q=0.7',\n",
    "    # Requests sorts cookies= alphabetically\n",
    "    # 'cookie': 'sb_landing=true; sb_cookieConsent=true; isRegistered=true; _gid=GA1.2.1065595042.1667866716; sticky=stx26.381; lc-session=1; siteid=undefined; _gat_UA-164922849-1=1; __cf_bm=YryAbAOXMdlCnceLuiI79MW6cHvgxil3akXS0.lYpZo-1667876006-0-AdyGCSQvP/Sy20Ks48uxgyvpDuil+4kYAxzTKu6mErv/uo02albAj9EUKYsf6+kdYvWhpxVmm7DZidpy+CbM/13NJpQzJ649C2/U89J+0Vlv5pzxMCP1lt9418yAHOSfANVUGJ7FVfA5un8YUxoxxopNO0QbcNbYsbyZKQjkoROp; sb_liveSport=FOOT; _ga=GA1.2.705958309.1667398580; _ga_CHR7RP8E7T=GS1.1.1667876006.10.1.1667876017.49.0.0',\n",
    "    'referer': 'https://br.betano.com/sport/futebol/',\n",
    "    'sec-ch-ua': '\"Chromium\";v=\"106\", \"Google Chrome\";v=\"106\", \"Not;A=Brand\";v=\"99\"',\n",
    "    'sec-ch-ua-mobile': '?0',\n",
    "    'sec-ch-ua-platform': '\"Windows\"',\n",
    "    'sec-fetch-dest': 'empty',\n",
    "    'sec-fetch-mode': 'cors',\n",
    "    'sec-fetch-site': 'same-origin',\n",
    "    'user-agent': 'Mozilla/5.0 (Windows NT 10.0; Win64; x64) AppleWebKit/537.36 (KHTML, like Gecko) Chrome/106.0.0.0 Safari/537.36',\n",
    "}\n",
    "\n",
    "response = requests.get('https://br.betano.com/api/',headers=headers)\n",
    "\n",
    "\n"
   ]
  },
  {
   "cell_type": "code",
   "execution_count": 507,
   "metadata": {},
   "outputs": [],
   "source": [
    "#transformando json em dicionario\n",
    "dic_request = response.json()"
   ]
  },
  {
   "cell_type": "code",
   "execution_count": 509,
   "metadata": {},
   "outputs": [],
   "source": [
    "#acessando os items do funcionario\n",
    "#[0] é a possição do futebol no dicionario\n",
    "#[0] desta vez é o campeonato brasileiro\n",
    "df = dic_request['data']['topEvents'][0]['events'][0]['markets']"
   ]
  },
  {
   "cell_type": "code",
   "execution_count": 510,
   "metadata": {},
   "outputs": [
    {
     "data": {
      "text/plain": [
       "[{'id': '1245882056',\n",
       "  'name': 'Resultado Final SO',\n",
       "  'type': 'MR12',\n",
       "  'handicap': 0.0,\n",
       "  'marketCloseTimeMillis': 1668366000000,\n",
       "  'marketNotes': 'Aplica-se aos mercados \"Resultado\" e \"Vencedor\" e não podem ser usados em nenhuma oferta',\n",
       "  'renderingLayout': 4,\n",
       "  'selections': [{'id': '2891716308',\n",
       "    'name': '1',\n",
       "    'fullName': 'Corinthians',\n",
       "    'shortName': '',\n",
       "    'price': 3.25,\n",
       "    'handicap': 0.0,\n",
       "    'betRef': '2891716308',\n",
       "    'renderingLayout': 4,\n",
       "    'columnIndex': 0},\n",
       "   {'id': '2891716309',\n",
       "    'name': 'X',\n",
       "    'fullName': 'Empate',\n",
       "    'shortName': '',\n",
       "    'price': 3.2,\n",
       "    'handicap': 0.0,\n",
       "    'betRef': '2891716309',\n",
       "    'renderingLayout': 4,\n",
       "    'columnIndex': 1},\n",
       "   {'id': '2891716310',\n",
       "    'name': '2',\n",
       "    'fullName': 'Atlético-MG',\n",
       "    'shortName': '',\n",
       "    'price': 2.47,\n",
       "    'handicap': 0.0,\n",
       "    'betRef': '2891716310',\n",
       "    'renderingLayout': 4,\n",
       "    'columnIndex': 2}],\n",
       "  'scorerSelections': [],\n",
       "  'exactScoreSelections': []},\n",
       " {'id': '1245210636',\n",
       "  'name': 'Total de Gols Mais/Menos',\n",
       "  'type': 'HCTG',\n",
       "  'handicap': 2.5,\n",
       "  'marketCloseTimeMillis': 1668366000000,\n",
       "  'renderingLayout': 2,\n",
       "  'selections': [{'id': '2889088400',\n",
       "    'name': 'Mais de 2.5',\n",
       "    'shortName': '+',\n",
       "    'price': 2.37,\n",
       "    'handicap': 2.5,\n",
       "    'betRef': '2889088400',\n",
       "    'renderingLayout': 2,\n",
       "    'columnIndex': 0},\n",
       "   {'id': '2889088401',\n",
       "    'name': 'Menos de 2.5',\n",
       "    'shortName': '-',\n",
       "    'price': 1.6,\n",
       "    'handicap': 2.5,\n",
       "    'betRef': '2889088401',\n",
       "    'renderingLayout': 2,\n",
       "    'columnIndex': 1}],\n",
       "  'scorerSelections': [],\n",
       "  'exactScoreSelections': []},\n",
       " {'id': '1235483325',\n",
       "  'name': 'Ambas equipes Marcam',\n",
       "  'type': 'BTSC',\n",
       "  'handicap': 0.0,\n",
       "  'marketCloseTimeMillis': 1668366000000,\n",
       "  'renderingLayout': 2,\n",
       "  'selections': [{'id': '2847346833',\n",
       "    'name': 'Sim',\n",
       "    'shortName': 'Sim ',\n",
       "    'price': 1.98,\n",
       "    'handicap': 0.0,\n",
       "    'betRef': '2847346833',\n",
       "    'renderingLayout': 2,\n",
       "    'columnIndex': 0},\n",
       "   {'id': '2847346834',\n",
       "    'name': 'Não',\n",
       "    'shortName': 'Não',\n",
       "    'price': 1.78,\n",
       "    'handicap': 0.0,\n",
       "    'betRef': '2847346834',\n",
       "    'renderingLayout': 2,\n",
       "    'columnIndex': 1}],\n",
       "  'scorerSelections': [],\n",
       "  'exactScoreSelections': []}]"
      ]
     },
     "execution_count": 510,
     "metadata": {},
     "output_type": "execute_result"
    }
   ],
   "source": [
    "df"
   ]
  },
  {
   "cell_type": "code",
   "execution_count": 456,
   "metadata": {},
   "outputs": [],
   "source": [
    "df3 = df2['markets']"
   ]
  },
  {
   "cell_type": "code",
   "execution_count": 457,
   "metadata": {},
   "outputs": [],
   "source": [
    "df4 = df3[0]['selections']"
   ]
  },
  {
   "cell_type": "code",
   "execution_count": 466,
   "metadata": {},
   "outputs": [
    {
     "data": {
      "text/plain": [
       "[{'id': '2891716308',\n",
       "  'name': '1',\n",
       "  'fullName': 'Corinthians',\n",
       "  'shortName': '',\n",
       "  'price': 3.25,\n",
       "  'handicap': 0.0,\n",
       "  'betRef': '2891716308',\n",
       "  'renderingLayout': 4,\n",
       "  'columnIndex': 0},\n",
       " {'id': '2891716309',\n",
       "  'name': 'X',\n",
       "  'fullName': 'Empate',\n",
       "  'shortName': '',\n",
       "  'price': 3.2,\n",
       "  'handicap': 0.0,\n",
       "  'betRef': '2891716309',\n",
       "  'renderingLayout': 4,\n",
       "  'columnIndex': 1},\n",
       " {'id': '2891716310',\n",
       "  'name': '2',\n",
       "  'fullName': 'Atlético-MG',\n",
       "  'shortName': '',\n",
       "  'price': 2.45,\n",
       "  'handicap': 0.0,\n",
       "  'betRef': '2891716310',\n",
       "  'renderingLayout': 4,\n",
       "  'columnIndex': 2}]"
      ]
     },
     "execution_count": 466,
     "metadata": {},
     "output_type": "execute_result"
    }
   ],
   "source": [
    "df4"
   ]
  },
  {
   "cell_type": "code",
   "execution_count": 473,
   "metadata": {},
   "outputs": [],
   "source": [
    "mandante = df4[0]['fullName']\n",
    "odds1 = df4[0]['price']\n",
    "visitante = df4[2]['fullName']\n",
    "odds2 = df4[2]['price']\n",
    "\n"
   ]
  },
  {
   "cell_type": "code",
   "execution_count": 474,
   "metadata": {},
   "outputs": [
    {
     "name": "stdout",
     "output_type": "stream",
     "text": [
      "Corinthians\n",
      "3.25\n",
      "Atlético-MG\n",
      "2.45\n"
     ]
    }
   ],
   "source": [
    "print(mandante)\n",
    "print(odds1)\n",
    "print(visitante)\n",
    "print(odds2)"
   ]
  }
 ],
 "metadata": {
  "kernelspec": {
   "display_name": "Python 3.10.6 ('venv': venv)",
   "language": "python",
   "name": "python3"
  },
  "language_info": {
   "codemirror_mode": {
    "name": "ipython",
    "version": 3
   },
   "file_extension": ".py",
   "mimetype": "text/x-python",
   "name": "python",
   "nbconvert_exporter": "python",
   "pygments_lexer": "ipython3",
   "version": "3.10.6"
  },
  "orig_nbformat": 4,
  "vscode": {
   "interpreter": {
    "hash": "66eec1d347e40b527b8c67adf65b85aad266210eb882e4e515e1800fe0f1e408"
   }
  }
 },
 "nbformat": 4,
 "nbformat_minor": 2
}
