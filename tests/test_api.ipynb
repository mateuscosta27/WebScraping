{
 "cells": [
  {
   "cell_type": "code",
   "execution_count": 1,
   "metadata": {},
   "outputs": [],
   "source": [
    "import requests\n",
    "from pandas import json_normalize\n",
    "import pandas as pd"
   ]
  },
  {
   "cell_type": "code",
   "execution_count": 16,
   "metadata": {},
   "outputs": [],
   "source": [
    "\n",
    "headers = {\n",
    "    'authority': 'vip.ngx.bet',\n",
    "    'accept': 'application/json, text/plain, */*',\n",
    "    'accept-language': 'pt-BR,pt;q=0.9,en-US;q=0.8,en;q=0.7',\n",
    "    'if-none-match': 'W/\"1d033-6Y9vpm1geQPAaRW8KANZySpPu10\"',\n",
    "    'origin': 'https://www.esporte365.com',\n",
    "    'referer': 'https://www.esporte365.com/',\n",
    "    'sec-ch-ua': '\"Chromium\";v=\"106\", \"Google Chrome\";v=\"106\", \"Not;A=Brand\";v=\"99\"',\n",
    "    'sec-ch-ua-mobile': '?0',\n",
    "    'sec-ch-ua-platform': '\"Windows\"',\n",
    "    'sec-fetch-dest': 'empty',\n",
    "    'sec-fetch-mode': 'cors',\n",
    "    'sec-fetch-site': 'cross-site',\n",
    "    'user-agent': 'Mozilla/5.0 (Windows NT 10.0; Win64; x64) AppleWebKit/537.36 (KHTML, like Gecko) Chrome/106.0.0.0 Safari/537.36',\n",
    "}\n",
    "\n",
    "params = {\n",
    "    'type': 'SOCCER',\n",
    "    'external_championship_id': '20913',\n",
    "}\n",
    "\n",
    "response = requests.get('https://vip.ngx.bet/event', params=params, headers=headers)"
   ]
  },
  {
   "cell_type": "code",
   "execution_count": 17,
   "metadata": {},
   "outputs": [],
   "source": [
    "esporte365 = json_normalize(response.json())"
   ]
  },
  {
   "cell_type": "code",
   "execution_count": null,
   "metadata": {},
   "outputs": [],
   "source": [
    "esporte365.columns"
   ]
  },
  {
   "cell_type": "code",
   "execution_count": null,
   "metadata": {},
   "outputs": [],
   "source": [
    "esporte365[['date',\n",
    "            'home_team', \n",
    "            'away_team',\n",
    "            'odds.full_time.home.value',\n",
    "            'odds.full_time.draw.value',\n",
    "            'odds.full_time.away.value',\n",
    "            'odds.full_time.home_or_draw.value',\n",
    "            'odds.full_time.draw_or_away.value']]"
   ]
  }
 ],
 "metadata": {
  "kernelspec": {
   "display_name": "venv",
   "language": "python",
   "name": "python3"
  },
  "language_info": {
   "codemirror_mode": {
    "name": "ipython",
    "version": 3
   },
   "file_extension": ".py",
   "mimetype": "text/x-python",
   "name": "python",
   "nbconvert_exporter": "python",
   "pygments_lexer": "ipython3",
   "version": "3.11.1 (tags/v3.11.1:a7a450f, Dec  6 2022, 19:58:39) [MSC v.1934 64 bit (AMD64)]"
  },
  "orig_nbformat": 4,
  "vscode": {
   "interpreter": {
    "hash": "27727262207a50a69d93d85d9ef2882c7677b962f309f00ba856aa9141140e92"
   }
  }
 },
 "nbformat": 4,
 "nbformat_minor": 2
}
