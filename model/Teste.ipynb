{
 "cells": [
  {
   "cell_type": "code",
   "execution_count": 40,
   "metadata": {},
   "outputs": [],
   "source": [
    "import pandas as pd\n",
    "import sqlite3\n",
    "from datetime import datetime"
   ]
  },
  {
   "cell_type": "code",
   "execution_count": 58,
   "metadata": {},
   "outputs": [],
   "source": [
    "directory_file = 'C:\\\\tmp\\\\Arquivos'\n",
    "directory_database = 'C:\\\\tmp\\\\Bancos'\n",
    "        \n",
    "betano = pd.read_csv(directory_file+'\\\\DataFrame_betano.csv', encoding = 'utf-8', sep=';')\n",
    "pixbet = pd.read_csv(directory_file+'\\\\DataFrame_pixbet.csv', encoding = 'utf-8', sep=';')  "
   ]
  },
  {
   "cell_type": "code",
   "execution_count": null,
   "metadata": {},
   "outputs": [],
   "source": [
    "betano"
   ]
  },
  {
   "cell_type": "code",
   "execution_count": 56,
   "metadata": {},
   "outputs": [],
   "source": [
    "## convertendo data de object para datetime\n",
    "betano['Data'] = betano['Data'].apply(lambda x:pd.to_datetime(x, format='%d-%m-%Y'))"
   ]
  },
  {
   "cell_type": "code",
   "execution_count": null,
   "metadata": {},
   "outputs": [],
   "source": [
    "betano.dtypes"
   ]
  },
  {
   "cell_type": "code",
   "execution_count": 3,
   "metadata": {},
   "outputs": [],
   "source": [
    "df_merge = betano.merge(pixbet, on='ind',how='inner', suffixes=['_betano','_pixbet'])\n",
    "df_merge['Resultado'] = df_merge.apply(lambda x:(1/x['Odds1_betano'])+(1/x['Odds2_pixbet']), axis=1)\n",
    "df_merge['Surebet'] = df_merge['Resultado'].apply(lambda x: 'Odds boa para aposta' if (x < 1)  else 'no')\n",
    "df_merge['Vitoria_timeCasa'] = df_merge['Odds2_betano'].apply(lambda x: 1/x)\n",
    "df_merge['Vitoria_timeVisitante'] = df_merge['Odds1_pixbet'].apply(lambda x: 1/x)\n",
    "data = df_merge[['TimeCasa_betano','TimeVisitante_betano', 'Hora_betano','Data_betano','Odds1_betano','OddsX_betano','Odds2_betano','Odds1_pixbet','OddsX_pixbet','Odds2_pixbet','Resultado','Surebet','Vitoria_timeCasa','Vitoria_timeVisitante']]"
   ]
  },
  {
   "cell_type": "code",
   "execution_count": null,
   "metadata": {},
   "outputs": [],
   "source": [
    "## adicionando ano na coluna data\n",
    "ano = '/2022'\n",
    "\n",
    "betano['Data'] = betano['Data'].apply(lambda x: (x+ano).replace('/','.'))\n",
    "\n",
    "betano"
   ]
  }
 ],
 "metadata": {
  "kernelspec": {
   "display_name": "Python 3.10.6 ('venv': venv)",
   "language": "python",
   "name": "python3"
  },
  "language_info": {
   "codemirror_mode": {
    "name": "ipython",
    "version": 3
   },
   "file_extension": ".py",
   "mimetype": "text/x-python",
   "name": "python",
   "nbconvert_exporter": "python",
   "pygments_lexer": "ipython3",
   "version": "3.10.6"
  },
  "orig_nbformat": 4,
  "vscode": {
   "interpreter": {
    "hash": "66eec1d347e40b527b8c67adf65b85aad266210eb882e4e515e1800fe0f1e408"
   }
  }
 },
 "nbformat": 4,
 "nbformat_minor": 2
}
