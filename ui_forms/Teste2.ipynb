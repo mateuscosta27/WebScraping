{
 "cells": [
  {
   "cell_type": "code",
   "execution_count": 1,
   "metadata": {},
   "outputs": [],
   "source": [
    "import pandas as pd\n",
    "import sqlite3\n",
    "from datetime import datetime"
   ]
  },
  {
   "cell_type": "code",
   "execution_count": 12,
   "metadata": {},
   "outputs": [],
   "source": [
    "directory_file = 'C:\\\\tmp\\\\Arquivos'\n",
    "directory_database = 'C:\\\\tmp\\\\Bancos'\n",
    "        \n",
    "matches_latest = pd.read_csv(directory_file+'\\\\matches_latest.csv', encoding = 'utf-8', sep=',')\n"
   ]
  },
  {
   "cell_type": "code",
   "execution_count": null,
   "metadata": {},
   "outputs": [],
   "source": [
    "matches_latest"
   ]
  },
  {
   "cell_type": "code",
   "execution_count": 14,
   "metadata": {},
   "outputs": [],
   "source": [
    "con_db = sqlite3.connect(directory_database+'\\\\DADOS.db')"
   ]
  },
  {
   "cell_type": "code",
   "execution_count": 15,
   "metadata": {},
   "outputs": [
    {
     "data": {
      "text/plain": [
       "11370"
      ]
     },
     "execution_count": 15,
     "metadata": {},
     "output_type": "execute_result"
    }
   ],
   "source": [
    "con_db\n",
    "betano = pd.read_csv(directory_file+'\\\\matches_latest.csv',encoding='utf-8', sep=',')\n",
    "betano.to_sql(\n",
    "name= 'tb_matches_latest',\n",
    "if_exists='replace',\n",
    "index=False,\n",
    "con = con_db       \n",
    "        )"
   ]
  }
 ],
 "metadata": {
  "kernelspec": {
   "display_name": "Python 3.10.6 ('venv': venv)",
   "language": "python",
   "name": "python3"
  },
  "language_info": {
   "codemirror_mode": {
    "name": "ipython",
    "version": 3
   },
   "file_extension": ".py",
   "mimetype": "text/x-python",
   "name": "python",
   "nbconvert_exporter": "python",
   "pygments_lexer": "ipython3",
   "version": "3.10.6"
  },
  "orig_nbformat": 4,
  "vscode": {
   "interpreter": {
    "hash": "66eec1d347e40b527b8c67adf65b85aad266210eb882e4e515e1800fe0f1e408"
   }
  }
 },
 "nbformat": 4,
 "nbformat_minor": 2
}
